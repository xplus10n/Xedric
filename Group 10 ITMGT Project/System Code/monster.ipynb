{
 "cells": [
  {
   "cell_type": "code",
   "execution_count": null,
   "id": "ac89f453-7123-4a72-a55a-8e59e03def06",
   "metadata": {},
   "outputs": [],
   "source": []
  },
  {
   "cell_type": "code",
   "execution_count": 153,
   "id": "63551eff-6eaa-4295-a0be-f70bbe6383f7",
   "metadata": {},
   "outputs": [],
   "source": [
    "import import_ipynb\n",
    "import pygame\n",
    "from settings import *\n",
    "from random import sample\n",
    "\n",
    "class Creature:\n",
    "    def get_data(self, name):\n",
    "        self.element = MONSTER_DATA[name]['element']\n",
    "        self.health = self.max_health = MONSTER_DATA[name]['health']\n",
    "        self.attacks = list(ATTACK_DATA.keys())\n",
    "        self.Ch1ATK = list(ATTACK_DATA['1 Ch ATK'])\n",
    "        self.Ch2ATK = list(ATTACK_DATA['2 Ch ATK'])\n",
    "        self.Ch3ATK = list(ATTACK_DATA['3 Ch ATK'])\n",
    "        self.Ch4ATK = list(ATTACK_DATA['4+ Ch ATK'])\n",
    "        self.defenses = DEFENSE_DATA\n",
    "        self.single = ['Opponent 1', 'Opponent 2', 'Opponent 3', 'Player']\n",
    "        self.double = ['Not Opponent 1', 'Not Opponent 2', 'Not Opponent 3', 'Not Player']\n",
    "\n",
    "        self.name = name\n",
    "\n",
    "# this is to show the monster; this does not use groups which could potentially show more than one sprite in a folder\n",
    "class Monster(pygame.sprite.Sprite, Creature):\n",
    "    def __init__(self, name, surf):\n",
    "        super().__init__()\n",
    "        # image itself\n",
    "        self.image = surf\n",
    "        # placement of image\n",
    "        self.rect = self.image.get_frect(bottomleft = (100, WINDOW_HEIGHT))\n",
    "        # gets data of creature from above\n",
    "        self.get_data(name)\n",
    "\n",
    "\n",
    "# this is to show the opponent\n",
    "class Opponent(pygame.sprite.Sprite, Creature):\n",
    "    def __init__(self, name, surf, groups):\n",
    "        super().__init__(groups)\n",
    "        self.image = surf\n",
    "        self.rect = self.image.get_frect(midbottom = (WINDOW_WIDTH-250, 300))\n",
    "        self.get_data(name)\n",
    "        "
   ]
  },
  {
   "cell_type": "code",
   "execution_count": null,
   "id": "540974f7-a7f8-49b1-b75d-b9e727abc7a8",
   "metadata": {},
   "outputs": [],
   "source": []
  },
  {
   "cell_type": "code",
   "execution_count": null,
   "id": "5a118604-3304-4cd7-bd8d-3de529e21bc0",
   "metadata": {},
   "outputs": [],
   "source": []
  }
 ],
 "metadata": {
  "kernelspec": {
   "display_name": "Python 3 (ipykernel)",
   "language": "python",
   "name": "python3"
  },
  "language_info": {
   "codemirror_mode": {
    "name": "ipython",
    "version": 3
   },
   "file_extension": ".py",
   "mimetype": "text/x-python",
   "name": "python",
   "nbconvert_exporter": "python",
   "pygments_lexer": "ipython3",
   "version": "3.11.7"
  }
 },
 "nbformat": 4,
 "nbformat_minor": 5
}
