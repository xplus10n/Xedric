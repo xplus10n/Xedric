{
 "cells": [
  {
   "cell_type": "code",
   "execution_count": 27,
   "id": "d3f3cfe6-3dc7-4912-affb-6950e5108ab7",
   "metadata": {},
   "outputs": [],
   "source": [
    "import import_ipynb\n",
    "from settings import * \n",
    "\n",
    "def folder_importer(*path):\n",
    "    surfs = {}\n",
    "    for folder_path, _, file_names in walk(join(*path)):\n",
    "        for file_name in file_names:\n",
    "            full_path = join(folder_path, file_name)\n",
    "            surfs[file_name.split('.')[0]] = pygame.image.load(full_path).convert_alpha()\n",
    "    return surfs\n",
    "\n",
    "def audio_importer(*path):\n",
    "    audio_dict = {}\n",
    "    for folder_path, _, file_names in walk(join(*path)):\n",
    "        for file_name in file_names:\n",
    "            audio_dict[file_name.split('.')[0]] = pygame.mixer.Sound(join(folder_path, file_name))\n",
    "    return audio_dict"
   ]
  },
  {
   "cell_type": "code",
   "execution_count": null,
   "id": "0e10d2d0-d3d7-4322-b334-38ff8a72c388",
   "metadata": {},
   "outputs": [],
   "source": []
  },
  {
   "cell_type": "code",
   "execution_count": null,
   "id": "99acb2f5-5a91-457a-a2b2-ab3515f3f262",
   "metadata": {},
   "outputs": [],
   "source": []
  }
 ],
 "metadata": {
  "kernelspec": {
   "display_name": "Python 3 (ipykernel)",
   "language": "python",
   "name": "python3"
  },
  "language_info": {
   "codemirror_mode": {
    "name": "ipython",
    "version": 3
   },
   "file_extension": ".py",
   "mimetype": "text/x-python",
   "name": "python",
   "nbconvert_exporter": "python",
   "pygments_lexer": "ipython3",
   "version": "3.11.7"
  }
 },
 "nbformat": 4,
 "nbformat_minor": 5
}
