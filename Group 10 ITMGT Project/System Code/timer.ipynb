{
 "cells": [
  {
   "cell_type": "code",
   "execution_count": 8,
   "id": "104849c1-ad88-4c1f-aa4c-8f526a3daa65",
   "metadata": {},
   "outputs": [],
   "source": [
    "import import_ipynb\n",
    "from settings import *\n",
    "\n",
    "class Timer:\n",
    "\tdef __init__(self, duration, repeat = False, autostart = False, func = None):\n",
    "\t\tself.duration = duration\n",
    "\t\tself.start_time = 0\n",
    "\t\tself.active = False\n",
    "\t\tself.repeat = repeat\n",
    "\t\tself.func = func\n",
    "\t\t\n",
    "\t\tif autostart:\n",
    "\t\t\tself.activate()\n",
    "\n",
    "\tdef __bool__(self):\n",
    "\t\treturn self.active\n",
    "\n",
    "\tdef activate(self):\n",
    "\t\tself.active = True\n",
    "\t\tself.start_time = pygame.time.get_ticks()\n",
    "\n",
    "\tdef deactivate(self):\n",
    "\t\tself.active = False\n",
    "\t\tself.start_time = 0\n",
    "\t\tif self.repeat:\n",
    "\t\t\tself.activate()\n",
    "\n",
    "\tdef update(self):\n",
    "\t\tif self.active:\n",
    "\t\t\tif pygame.time.get_ticks() - self.start_time >= self.duration:\n",
    "\t\t\t\tif self.func and self.start_time != 0: self.func()\n",
    "\t\t\t\tself.deactivate()"
   ]
  },
  {
   "cell_type": "code",
   "execution_count": null,
   "id": "9a890524-bfe2-4604-9b0b-bc6395ff6995",
   "metadata": {},
   "outputs": [],
   "source": []
  }
 ],
 "metadata": {
  "kernelspec": {
   "display_name": "Python 3 (ipykernel)",
   "language": "python",
   "name": "python3"
  },
  "language_info": {
   "codemirror_mode": {
    "name": "ipython",
    "version": 3
   },
   "file_extension": ".py",
   "mimetype": "text/x-python",
   "name": "python",
   "nbconvert_exporter": "python",
   "pygments_lexer": "ipython3",
   "version": "3.11.7"
  }
 },
 "nbformat": 4,
 "nbformat_minor": 5
}
